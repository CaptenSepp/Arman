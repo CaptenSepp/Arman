{
 "cells": [
  {
   "cell_type": "markdown",
   "metadata": {
    "toc-hr-collapsed": true
   },
   "source": [
    "<h1>Einführung in Python</h1>\n",
    "Quellen: Für dieses Dokument wurden folgende Quellen verwendet\n",
    "\n",
    "* https://github.com/jerry-git/learn-python3\n",
    "* https://docs.python.org/3.7/ (Offizielle Python 3.7 Dokumentation)\n",
    "\n",
    "Tutorial: https://docs.python.org/3.7/tutorial/index.html"
   ]
  },
  {
   "cell_type": "markdown",
   "metadata": {},
   "source": [
    "## Python Versionen"
   ]
  },
  {
   "cell_type": "markdown",
   "metadata": {},
   "source": [
    "Es existieren zwei inkompatible Version-Stränge von Python. Der alte (und abgekündigte) Version-Strang 2 mit der letzen Version 2.7 und der aktuelle Strang mit der Version 3. Ihre aktuell verwendete Version erhalten Sie durch ausführen der folgenden Zeile (Klicken Sie auf die Zeile und drücken Sie \n",
    "`<shift>+<enter>`):"
   ]
  },
  {
   "cell_type": "code",
   "execution_count": 10,
   "metadata": {
    "collapsed": true,
    "jupyter": {
     "outputs_hidden": true
    }
   },
   "outputs": [
    {
     "name": "stdout",
     "output_type": "stream",
     "text": [
      "3.7.4 (default, Aug  9 2019, 18:34:13) [MSC v.1915 64 bit (AMD64)]\n"
     ]
    }
   ],
   "source": [
    "import sys\n",
    "print(sys.version)"
   ]
  },
  {
   "cell_type": "markdown",
   "metadata": {},
   "source": [
    "## Python Module\n",
    "Zusätzliche Funktionen (wie z. B. Plotten von Grafiken) werden über Module bereitgestellt.\n",
    "Auf Ihrem System sind i. d. R. schon eine Vielzahl von Modulen installiert. Eine Auflistung erhalten Sie mit:"
   ]
  },
  {
   "cell_type": "code",
   "execution_count": 9,
   "metadata": {
    "collapsed": true,
    "jupyter": {
     "outputs_hidden": true
    }
   },
   "outputs": [
    {
     "name": "stdout",
     "output_type": "stream",
     "text": [
      "\n",
      "Please wait a moment while I gather a list of all available modules...\n",
      "\n",
      "b'\"\\x00\\\\\\x00U\\x00n\\x00t\\x00i\\x00s\\x00\\\\\\x00\"\\x00 \\x00k\\x00a\\x00n\\x00n\\x00 \\x00s\\x00y\\x00n\\x00t\\x00a\\x00k\\x00t\\x00i\\x00s\\x00c\\x00h\\x00 \\x00a\\x00n\\x00 \\x00d\\x00i\\x00e\\x00s\\x00e\\x00r\\x00 \\x00S\\x00t\\x00e\\x00l\\x00l\\x00e\\x00 \\x00n\\x00i\\x00c\\x00h\\x00t\\x00 \\x00v\\x00e\\x00r\\x00a\\x00r\\x00b\\x00e\\x00i\\x00t\\x00e\\x00t\\x00 \\x00w\\x00e\\x00r\\x00d\\x00e\\x00n\\x00.\\x00\\r\\x00\\n\\x00'\n",
      "Crypto              bz2                 mccabe              smtplib\n",
      "Cython              cProfile            menuinst            sndhdr\n",
      "IPython             calendar            mimetypes           snowballstemmer\n",
      "OpenSSL             certifi             mistune             socket\n",
      "PIL                 cffi                mkl                 socketserver\n",
      "PyPDF2              cgi                 mkl_fft             socks\n",
      "PyQt5               cgitb               mkl_random          sockshandler\n",
      "__future__          chardet             mmap                sortedcollections\n",
      "_abc                chunk               mmapfile            sortedcontainers\n",
      "_ast                click               mmsystem            soupsieve\n",
      "_asyncio            cloudpickle         mock                spark_parser\n",
      "_bisect             clyent              modulefinder        sphinx\n",
      "_blake2             cmath               more_itertools      sphinxcontrib\n",
      "_bootlocale         cmd                 mpmath              sphinxify\n",
      "_bz2                code                msgpack             sphinxthread\n",
      "_cffi_backend       codecs              msilib              spyder\n",
      "_codecs             codeop              msvcrt              spyder_kernels\n",
      "_codecs_cn          colander            multipledispatch    sqlalchemy\n",
      "_codecs_hk          collections         multiprocessing     sqlite3\n",
      "_codecs_iso2022     colorama            nacl                sre_compile\n",
      "_codecs_jp          colorsys            navigator_updater   sre_constants\n",
      "_codecs_kr          commctrl            nbconvert           sre_parse\n",
      "_codecs_tw          compileall          nbformat            ssl\n",
      "_collections        comtypes            netbios             sspi\n",
      "_collections_abc    concurrent          netrc               sspicon\n",
      "_compat_pickle      conda               networkx            stat\n",
      "_compression        conda_build         nltk                statistics\n",
      "_contextvars        conda_env           nntplib             statsmodels\n",
      "_csv                conda_package_handling nose                storemagic\n",
      "_ctypes             conda_verify        notebook            string\n",
      "_ctypes_test        conf                nt                  stringprep\n",
      "_datetime           configparser        ntpath              struct\n",
      "_decimal            contextlib          ntsecuritycon       subprocess\n",
      "_dummy_thread       contextlib2         nturl2path          sunau\n",
      "_elementtree        contextvars         numba               symbol\n",
      "_functools          copy                numbers             sympy\n",
      "_hashlib            copyreg             numexpr             sympyprinting\n",
      "_heapq              coverage            numpy               symtable\n",
      "_imp                crypt               numpydoc            sys\n",
      "_io                 cryptography        odbc                sysconfig\n",
      "_json               csv                 olefile             tables\n",
      "_locale             ctypes              opcode              tabnanny\n",
      "_lsprof             curl                openpyxl            tarfile\n",
      "_lzma               curses              operator            tblib\n",
      "_markupbase         cv                  optparse            telnetlib\n",
      "_md5                cv2                 os                  tempfile\n",
      "_msi                cvxpy_tinoco        packaging           terminado\n",
      "_multibytecodec     cwp                 pandas              test\n",
      "_multiprocessing    cycler              pandocfilters       test_data\n",
      "_nsis               cython              paramiko            test_pycosat\n",
      "_opcode             cythonmagic         parser              testpath\n",
      "_operator           cytoolz             parso               tests\n",
      "_osx_support        dask                partd               textwrap\n",
      "_overlapped         dataclasses         past                this\n",
      "_pickle             datetime            path                threading\n",
      "_py_abc             dateutil            pathlib             time\n",
      "_pydecimal          dbi                 pathlib2            timeit\n",
      "_pyio               dbm                 pathtools           timer\n",
      "_pylief             dde                 patsy               tkinter\n",
      "_pyrsistent_version decimal             pdb                 tlz\n",
      "_pytest             decorator           pep8                token\n",
      "_queue              defusedxml          perfmon             tokenize\n",
      "_random             diff_match_patch    pexpect             toolz\n",
      "_sha1               difflib             pickle              tornado\n",
      "_sha256             dis                 pickleshare         tqdm\n",
      "_sha3               distributed         pickletools         trace\n",
      "_sha512             distutils           pip                 traceback\n",
      "_signal             dlib                pipes               tracemalloc\n",
      "_sitebuiltins       doctest             pkg_resources       traitlets\n",
      "_socket             docutils            pkginfo             translationstring\n",
      "_sqlite3            dummy_threading     pkgutil             tty\n",
      "_sre                easy_install        platform            turtle\n",
      "_ssl                email               plistlib            turtledemo\n",
      "_stat               encodings           pluggy              types\n",
      "_string             ensurepip           plumbum             typing\n",
      "_strptime           entrypoints         ply                 ujson\n",
      "_struct             enum                poplib              uncompyle6\n",
      "_symtable           errno               posixpath           unicodecsv\n",
      "_system_path        et_xmlfile          pprint              unicodedata\n",
      "_testbuffer         fastcache           profile             unittest\n",
      "_testcapi           faulthandler        prometheus_client   urllib\n",
      "_testconsole        filecmp             prompt_toolkit      urllib3\n",
      "_testimportmultiple fileinput           pstats              uu\n",
      "_testmultiphase     filelock            psutil              uuid\n",
      "_thread             filterpy            pty                 venv\n",
      "_threading_local    flake8              pvectorc            warnings\n",
      "_tkinter            flask               py                  watchdog\n",
      "_tracemalloc        fnmatch             py_compile          wave\n",
      "_warnings           formatter           pyclbr              wcwidth\n",
      "_weakref            fractions           pycodestyle         weakref\n",
      "_weakrefset         fsspec              pycosat             webbrowser\n",
      "_win32sysloader     ftplib              pycparser           webencodings\n",
      "_winapi             functools           pycurl              werkzeug\n",
      "_winxptheme         future              pydoc               wheel\n",
      "_yaml               gc                  pydoc_data          widgetsnbextension\n",
      "abc                 genericpath         pydocstyle          win2kras\n",
      "adodbapi            getopt              pydsm               win32api\n",
      "afxres              getpass             pyexpat             win32clipboard\n",
      "aifc                gettext             pyfirmata           win32com\n",
      "alabaster           gevent              pyflakes            win32con\n",
      "anaconda_navigator  glob                pygments            win32console\n",
      "anaconda_project    glob2               pylab               win32cred\n",
      "antigravity         greenlet            pylint              win32crypt\n",
      "argh                gzip                pyls                win32cryptcon\n",
      "argparse            h5py                pyls_jsonrpc        win32ctypes\n",
      "array               hashlib             pymysql             win32event\n",
      "asn1crypto          haw                 pynetgear_enhanced  win32evtlog\n",
      "ast                 heapdict            pyodbc              win32evtlogutil\n",
      "astroid             heapq               pyparsing           win32file\n",
      "astropy             hmac                pyreadline          win32gui\n",
      "asynchat            html                pyrsistent          win32gui_struct\n",
      "asyncio             html5lib            pytest              win32help\n",
      "asyncore            http                pytest_arraydiff    win32inet\n",
      "atexit              hypothesis          pytest_astropy_header win32inetcon\n",
      "atomicwrites        idlelib             pytest_doctestplus  win32job\n",
      "attr                idna                pytest_openfiles    win32lz\n",
      "audioop             imageio             pytest_remotedata   win32net\n",
      "autopep8            imagesize           pythoncom           win32netcon\n",
      "autoreload          imaplib             pytz                win32pdh\n",
      "babel               imghdr              pywin               win32pdhquery\n",
      "backcall            imp                 pywin32_bootstrap   win32pdhutil\n",
      "backports           importlib           pywin32_testutil    win32pipe\n",
      "base64              importlib_metadata  pywintypes          win32print\n",
      "bcrypt              imutils             pywt                win32process\n",
      "bdb                 inspect             pyximport           win32profile\n",
      "binascii            intervaltree        qdarkstyle          win32ras\n",
      "binhex              io                  qtawesome           win32rcparser\n",
      "binstar_client      ipaddress           qtconsole           win32security\n",
      "bisect              ipykernel           qtpy                win32service\n",
      "bitarray            ipykernel_launcher  queue               win32serviceutil\n",
      "bkcharts            ipython_genutils    quopri              win32timezone\n",
      "bleach              ipywidgets          random              win32trace\n",
      "bokeh               isapi               rasutil             win32traceutil\n",
      "boto                iso8601             re                  win32transaction\n",
      "bottleneck          isort               readline            win32ts\n",
      "brain_argparse      isympy              redis               win32ui\n",
      "brain_attrs         itertools           regcheck            win32uiole\n",
      "brain_builtin_inference itsdangerous        regutil             win32verstamp\n",
      "brain_collections   jdcal               reprlib             win32wnet\n",
      "brain_crypt         jedi                requests            win_inet_pton\n",
      "brain_curses        jinja2              rlcompleter         win_unicode_console\n",
      "brain_dataclasses   joblib              rmagic              wincertstore\n",
      "brain_dateutil      json                rope                winerror\n",
      "brain_fstrings      json5               rpyc                winioctlcon\n",
      "brain_functools     jsonschema          rtree               winnt\n",
      "brain_gi            jupyter             ruamel_yaml         winperf\n",
      "brain_hashlib       jupyter_client      run                 winpty\n",
      "brain_http          jupyter_console     runpy               winreg\n",
      "brain_io            jupyter_core        sched               winsound\n",
      "brain_mechanize     jupyterlab          scipy               winxpgui\n",
      "brain_multiprocessing jupyterlab_server   scripts             winxptheme\n",
      "brain_namedtuple_enum keyring             seaborn             wrapt\n",
      "brain_nose          keyword             secrets             wsgiref\n",
      "brain_numpy_core_fromnumeric kiwisolver          select              xdis\n",
      "brain_numpy_core_function_base lark                selectors           xdrlib\n",
      "brain_numpy_core_multiarray lazy_object_proxy   send2trash          xlrd\n",
      "brain_numpy_core_numeric lib2to3             serial              xlsxwriter\n",
      "brain_numpy_core_numerictypes libarchive          servicemanager      xlwings\n",
      "brain_numpy_core_umath libfuturize         setup               xlwt\n",
      "brain_numpy_ndarray libpasteurize       setuptools          xml\n",
      "brain_numpy_random_mtrand lief                shelve              xmlrpc\n",
      "brain_numpy_utils   linecache           shlex               xxsubtype\n",
      "brain_pkg_resources llvmlite            shutil              yaml\n",
      "brain_pytest        locale              signal              yapf\n",
      "brain_qt            locket              simplegeneric       yapftests\n",
      "brain_random        logging             singledispatch      zict\n",
      "brain_re            lxml                singledispatch_helpers zipapp\n",
      "brain_six           lzma                sip                 zipfile\n",
      "brain_ssl           macpath             sipconfig           zipimport\n",
      "brain_subprocess    mailbox             sipdistutils        zipp\n",
      "brain_threading     mailcap             site                zlib\n",
      "brain_typing        markupsafe          six                 zmq\n",
      "brain_uuid          marshal             skimage             \n",
      "bs4                 math                sklearn             \n",
      "builtins            matplotlib          smtpd               \n",
      "\n",
      "Enter any module name to get more help.  Or, type \"modules spam\" to search\n",
      "for modules whose name or summary contain the string \"spam\".\n",
      "\n"
     ]
    }
   ],
   "source": [
    "help('modules')"
   ]
  },
  {
   "cell_type": "markdown",
   "metadata": {},
   "source": [
    "# Kommentare"
   ]
  },
  {
   "cell_type": "markdown",
   "metadata": {},
   "source": [
    "Das Zeichen `#` leitet einen Kommentar ein und gilt bis zum Ende der Zeile. Kommentare werden vollständig ignoriert und dienen nur der menschlichen Kommunikation.\n",
    "\n",
    "Es ist guter Stil mit Hilfe von guten Namen für Variablen, Funktionen etc. und guten Programmstrukturen Kommentare auf das Nötige zu beschränken."
   ]
  },
  {
   "cell_type": "code",
   "execution_count": 31,
   "metadata": {},
   "outputs": [
    {
     "name": "stdout",
     "output_type": "stream",
     "text": [
      "5\n"
     ]
    }
   ],
   "source": [
    "a = 5     # Dies ist die Zuweisung eines Wertes an eine Variable\n",
    "print(a)  # Ausgabe des Variablenwertes"
   ]
  },
  {
   "cell_type": "markdown",
   "metadata": {
    "toc-hr-collapsed": false
   },
   "source": [
    "# Datentypen"
   ]
  },
  {
   "cell_type": "markdown",
   "metadata": {
    "toc-hr-collapsed": false
   },
   "source": [
    "## Strings\n",
    "\n",
    "Tutorial https://docs.python.org/3.7/tutorial/introduction.html#strings\n",
    "\n",
    "Referenz https://docs.python.org/3.7/library/string.html\n",
    "\n",
    "\n",
    "Strings sind Zeichenketten bestehend aus 0, 1 oder mehreren Zeichen. Sie werden mit `\"` oder `'` eingeschlossen.\n",
    "Gültige Zeichenketten sind z. B. \n",
    "\n",
    "* `''`\n",
    "* `\"hallo\"`\n",
    "* `'x'`\n",
    "\n",
    "Strings, wie alle Datentypen, können Variablen zugewiesen werden. Beispiel: `s=\"HAW Hamburg\"`. Sie können die Funktion `print(...)` verwenden, um den Inhalt von Variablen anzuzeigen:"
   ]
  },
  {
   "cell_type": "code",
   "execution_count": 13,
   "metadata": {},
   "outputs": [
    {
     "name": "stdout",
     "output_type": "stream",
     "text": [
      "HAW Hamburg\n",
      "Fakultät DMI\n",
      "Department Medientechnik\n"
     ]
    }
   ],
   "source": [
    "a = \"HAW Hamburg\"\n",
    "b = \"Fakultät DMI\"\n",
    "c = 'Department Medientechnik'\n",
    "print(a)\n",
    "print(b)\n",
    "print(c)"
   ]
  },
  {
   "cell_type": "markdown",
   "metadata": {},
   "source": [
    "Mit dem `+`-Operator können Strings aneinandergehängt werden:"
   ]
  },
  {
   "cell_type": "code",
   "execution_count": 15,
   "metadata": {},
   "outputs": [
    {
     "name": "stdout",
     "output_type": "stream",
     "text": [
      "HAW Hamburg, Fakultät DMI, Department Medientechnik\n"
     ]
    }
   ],
   "source": [
    "abc = a + ', ' + b + ', ' + c\n",
    "print(abc)"
   ]
  },
  {
   "cell_type": "markdown",
   "metadata": {},
   "source": [
    "Mit dem Operator `*` können Strings vervielfältigt werden:"
   ]
  },
  {
   "cell_type": "code",
   "execution_count": 67,
   "metadata": {},
   "outputs": [
    {
     "name": "stdout",
     "output_type": "stream",
     "text": [
      "hallo hallo hallo hallo hallo hallo hallo hallo hallo hallo \n",
      "------------------------------------------------------------------------------------------\n",
      "#.#.#.#.#.#.#.#.#.#.#.#.#.#.#.#.#.#.#.#.#.#.#.#.#.#.#.#.#.#.#.#.#.#.#.#.#.#.#.#.#.#.#.#.#.\n"
     ]
    }
   ],
   "source": [
    "a = 'hallo '\n",
    "print(a * 10)\n",
    "print('-' * 90)\n",
    "print('#.' * 45)\n"
   ]
  },
  {
   "cell_type": "markdown",
   "metadata": {},
   "source": [
    "### Mehrzeilige Strings"
   ]
  },
  {
   "cell_type": "markdown",
   "metadata": {},
   "source": [
    "Durch `\"\"\" ... \"\"\"` oder `''' ... '''` können auf einfache Weise String mit mehreren Zeilen erstellt werden."
   ]
  },
  {
   "cell_type": "code",
   "execution_count": 36,
   "metadata": {},
   "outputs": [
    {
     "name": "stdout",
     "output_type": "stream",
     "text": [
      "Lorem ipsum dolor sit amet, consectetur adipiscing elit, \n",
      "sed do eiusmod tempor incididunt ut \n",
      "labore et dolore magna aliqua. Ut \n",
      "\n"
     ]
    }
   ],
   "source": [
    "#Beispiel:\n",
    "s = '''Lorem ipsum dolor sit amet, consectetur adipiscing elit, \n",
    "sed do eiusmod tempor incididunt ut \n",
    "labore et dolore magna aliqua. Ut \n",
    "'''\n",
    "print(s)"
   ]
  },
  {
   "cell_type": "markdown",
   "metadata": {},
   "source": [
    "### Länge von Strings"
   ]
  },
  {
   "cell_type": "code",
   "execution_count": 32,
   "metadata": {},
   "outputs": [
    {
     "name": "stdout",
     "output_type": "stream",
     "text": [
      "Die Variable a hat 11 Zeichen\n"
     ]
    }
   ],
   "source": [
    "#Für die Länge von Strings wird die Funktion len() verwendet\n",
    "a = \"Hallo Franz\"\n",
    "print(\"Die Variable a hat\", len(a), \"Zeichen\")"
   ]
  },
  {
   "cell_type": "markdown",
   "metadata": {},
   "source": [
    "### Methodenaufrufe"
   ]
  },
  {
   "cell_type": "code",
   "execution_count": 19,
   "metadata": {},
   "outputs": [
    {
     "name": "stdout",
     "output_type": "stream",
     "text": [
      "['__add__', '__class__', '__contains__', '__delattr__', '__dir__', '__doc__', '__eq__', '__format__', '__ge__', '__getattribute__', '__getitem__', '__getnewargs__', '__gt__', '__hash__', '__init__', '__init_subclass__', '__iter__', '__le__', '__len__', '__lt__', '__mod__', '__mul__', '__ne__', '__new__', '__reduce__', '__reduce_ex__', '__repr__', '__rmod__', '__rmul__', '__setattr__', '__sizeof__', '__str__', '__subclasshook__', 'capitalize', 'casefold', 'center', 'count', 'encode', 'endswith', 'expandtabs', 'find', 'format', 'format_map', 'index', 'isalnum', 'isalpha', 'isascii', 'isdecimal', 'isdigit', 'isidentifier', 'islower', 'isnumeric', 'isprintable', 'isspace', 'istitle', 'isupper', 'join', 'ljust', 'lower', 'lstrip', 'maketrans', 'partition', 'replace', 'rfind', 'rindex', 'rjust', 'rpartition', 'rsplit', 'rstrip', 'split', 'splitlines', 'startswith', 'strip', 'swapcase', 'title', 'translate', 'upper', 'zfill']\n"
     ]
    }
   ],
   "source": [
    "#Die folgende Anweisung zeigt Ihnen die verfügbaren Methoden von Strings\n",
    "print(dir(abc))"
   ]
  },
  {
   "cell_type": "markdown",
   "metadata": {},
   "source": [
    "Im Notebook (also hier im Browser) können Sie allerdings auch `abc.` + `<TABULATOR>` eingeben. Dann werden Ihnen die Methoden als Auswahlliste angezeigt. Finden eine Erklärung der einzelnen Methoden unter `https://docs.python.org/3.7/library/string.html`. Oder indem Sie im Notebook für eine fragliche Methode `help(abc.count)` bzw. `help(str.count)` bzw. `abc.count?` eingeben."
   ]
  },
  {
   "cell_type": "code",
   "execution_count": 24,
   "metadata": {},
   "outputs": [
    {
     "name": "stdout",
     "output_type": "stream",
     "text": [
      "Help on built-in function count:\n",
      "\n",
      "count(...) method of builtins.str instance\n",
      "    S.count(sub[, start[, end]]) -> int\n",
      "    \n",
      "    Return the number of non-overlapping occurrences of substring sub in\n",
      "    string S[start:end].  Optional arguments start and end are\n",
      "    interpreted as in slice notation.\n",
      "\n"
     ]
    }
   ],
   "source": [
    "help(abc.count)"
   ]
  },
  {
   "cell_type": "code",
   "execution_count": 25,
   "metadata": {},
   "outputs": [
    {
     "name": "stdout",
     "output_type": "stream",
     "text": [
      "Help on method_descriptor:\n",
      "\n",
      "count(...)\n",
      "    S.count(sub[, start[, end]]) -> int\n",
      "    \n",
      "    Return the number of non-overlapping occurrences of substring sub in\n",
      "    string S[start:end].  Optional arguments start and end are\n",
      "    interpreted as in slice notation.\n",
      "\n"
     ]
    }
   ],
   "source": [
    "help(str.count)"
   ]
  },
  {
   "cell_type": "code",
   "execution_count": 26,
   "metadata": {},
   "outputs": [
    {
     "data": {
      "text/plain": [
       "\u001b[1;31mDocstring:\u001b[0m\n",
       "S.count(sub[, start[, end]]) -> int\n",
       "\n",
       "Return the number of non-overlapping occurrences of substring sub in\n",
       "string S[start:end].  Optional arguments start and end are\n",
       "interpreted as in slice notation.\n",
       "\u001b[1;31mType:\u001b[0m      builtin_function_or_method\n"
      ]
     },
     "metadata": {},
     "output_type": "display_data"
    }
   ],
   "source": [
    "abc.count?"
   ]
  },
  {
   "cell_type": "markdown",
   "metadata": {},
   "source": [
    "Die Hilfe zu der Methode `.count` ist so zu lesen, dass Sie beim Aufruf einen Parameter übergeben (`sub`). Dies ist der Substring, der gesucht und gezählt wird. Optional kann die Start-Position und (wieder optional) die End-Position angegeben werden."
   ]
  },
  {
   "cell_type": "code",
   "execution_count": 29,
   "metadata": {},
   "outputs": [
    {
     "name": "stdout",
     "output_type": "stream",
     "text": [
      "1\n",
      "4\n"
     ]
    }
   ],
   "source": [
    "#Beispiele:\n",
    "zen = \"Simple is better than complex.\"\n",
    "\n",
    "print( zen.count('is') ) # Gibt 1 aus\n",
    "print( zen.count('e')  ) # Gibt 4 aus"
   ]
  },
  {
   "cell_type": "markdown",
   "metadata": {},
   "source": [
    "### Einige wichtige Methoden"
   ]
  },
  {
   "cell_type": "markdown",
   "metadata": {},
   "source": [
    "* String-Ersetzung `.replace(s, a)` Ersetzt den Substring `s` durch `a`"
   ]
  },
  {
   "cell_type": "code",
   "execution_count": 37,
   "metadata": {},
   "outputs": [
    {
     "name": "stdout",
     "output_type": "stream",
     "text": [
      "Franz ist klein\n"
     ]
    }
   ],
   "source": [
    "a = 'Franz ist groß'\n",
    "b = a.replace('groß', 'klein')\n",
    "print(b)"
   ]
  },
  {
   "cell_type": "markdown",
   "metadata": {},
   "source": [
    "* Groß-Klein-Schreibung `.upper(), .lower(), .title()`"
   ]
  },
  {
   "cell_type": "code",
   "execution_count": 68,
   "metadata": {},
   "outputs": [
    {
     "name": "stdout",
     "output_type": "stream",
     "text": [
      "DIE ERDE DREHT SICH UM DIE SONNE\n",
      "die erde dreht sich um die sonne\n",
      "Die Erde Dreht Sich Um Die Sonne\n"
     ]
    }
   ],
   "source": [
    "a = \"DiE eRdE drEHT SICH um Die SOnne\"\n",
    "print(a.upper())\n",
    "print(a.lower())\n",
    "print(a.title())"
   ]
  },
  {
   "cell_type": "markdown",
   "metadata": {},
   "source": [
    "* `.format(...)` für die Formatierte Ausgabe"
   ]
  },
  {
   "cell_type": "code",
   "execution_count": 52,
   "metadata": {},
   "outputs": [
    {
     "name": "stdout",
     "output_type": "stream",
     "text": [
      "Die Temperatur in der Garage beträgt 27.3632°C\n",
      "Die Temperatur in der Garage beträgt 27.4°C\n"
     ]
    }
   ],
   "source": [
    "wo = \"der Garage\"\n",
    "temp = 27.3632\n",
    "a = \"Die Temperatur in {} beträgt {}°C\".format(wo, temp)\n",
    "print(a.format(temp))\n",
    "\n",
    "b = \"Die Temperatur in {} beträgt {:.1f}°C\".format(wo, temp)\n",
    "print(b.format(temp))"
   ]
  },
  {
   "cell_type": "markdown",
   "metadata": {},
   "source": [
    "Die Zuweisung an `b` verwendet mit `:.1f` einen sog. Format-Specifier in den geschweiften Klammern. Damit kann genau spezifiert werden, wie die Variable ausgegeben werden soll. In diesem Fall als Fließkommazahl (f) mit einer Nachkommastelle (.1). Mehr dazu finden Sie z. B. hier: https://www.geeksforgeeks.org/python-format-function/."
   ]
  },
  {
   "cell_type": "markdown",
   "metadata": {},
   "source": [
    "* `.strip()` entfernen von Leerzeichen"
   ]
  },
  {
   "cell_type": "code",
   "execution_count": 57,
   "metadata": {},
   "outputs": [
    {
     "name": "stdout",
     "output_type": "stream",
     "text": [
      "Der String a = '  hallo Jakob!  ' hat eine Länge von 16 Zeichen\n",
      "Der String b = \"hallo Jakob!\" hat eine Länge von 12 Zeichen\n"
     ]
    }
   ],
   "source": [
    "a = \"  hallo Jakob!  \"\n",
    "b = a.strip()\n",
    "print(\"Der String a = '{}' hat eine Länge von {} Zeichen\".format(a, len(a)))\n",
    "print('Der String b = \"{}\" hat eine Länge von {} Zeichen'.format(b, len(b)))"
   ]
  },
  {
   "cell_type": "markdown",
   "metadata": {},
   "source": [
    "* `.center(d)` zentriert einen String innerhalb von `d` Zeichen\n"
   ]
  },
  {
   "cell_type": "code",
   "execution_count": 59,
   "metadata": {},
   "outputs": [
    {
     "name": "stdout",
     "output_type": "stream",
     "text": [
      "Franz\n",
      "------------------------------\n",
      "            Franz             \n",
      "------------------------------\n"
     ]
    }
   ],
   "source": [
    "a = \"Franz\"\n",
    "print(a)\n",
    "print('-' * 30)\n",
    "print(a.center(30))\n",
    "print('-' * 30)\n"
   ]
  },
  {
   "cell_type": "markdown",
   "metadata": {},
   "source": [
    "* `.split(s)` Auftrennen eines Strings am Zeichen `s` "
   ]
  },
  {
   "cell_type": "code",
   "execution_count": 82,
   "metadata": {},
   "outputs": [
    {
     "name": "stdout",
     "output_type": "stream",
     "text": [
      "Franz,Josef,Jakob,Marie,Johanna,Anabell 39\n",
      "['Franz', 'Josef', 'Jakob', 'Marie', 'Johanna', 'Anabell'] 6\n",
      "Josef\n"
     ]
    }
   ],
   "source": [
    "namen = 'Franz,Josef,Jakob,Marie,Johanna,Anabell'\n",
    "namensliste = namen.split(',')\n",
    "\n",
    "print(print(namen, len(namen))\n",
    "print(namensliste, len(namensliste))\n",
    "print(namensliste[1])"
   ]
  },
  {
   "cell_type": "markdown",
   "metadata": {},
   "source": [
    "* `.join(<liste>)` Zusammenführen von Listen"
   ]
  },
  {
   "cell_type": "code",
   "execution_count": 89,
   "metadata": {},
   "outputs": [
    {
     "name": "stdout",
     "output_type": "stream",
     "text": [
      "Franz,Josef,Jakob,Marie,Johanna,Anabell\n",
      "['Franz', 'Josef', 'Jakob', 'Marie', 'Johanna', 'Anabell']\n",
      "Franz | Josef | Jakob | Marie | Johanna | Anabell\n"
     ]
    }
   ],
   "source": [
    "namen = 'Franz,Josef,Jakob,Marie,Johanna,Anabell'\n",
    "namensliste = namen.split(',')\n",
    "namenneu = ' | '.join(namensliste)\n",
    "print(namen)\n",
    "print(namensliste)\n",
    "print(namenneu)"
   ]
  },
  {
   "cell_type": "markdown",
   "metadata": {},
   "source": [
    "* Mehrfachausführung"
   ]
  },
  {
   "cell_type": "code",
   "execution_count": 85,
   "metadata": {},
   "outputs": [
    {
     "name": "stdout",
     "output_type": "stream",
     "text": [
      "['FRANZ', 'JOSEF', 'JAKOB-MARIE', 'JOHANNA', 'ANABELL']\n"
     ]
    }
   ],
   "source": [
    "namen = 'Franz,Josef,Jakob,Marie,Johanna,Anabell'\n",
    "print( namen.replace('ob,Ma', 'ob-Ma').upper().split(',') )"
   ]
  },
  {
   "cell_type": "markdown",
   "metadata": {},
   "source": [
    "### Escape-Zeichen"
   ]
  },
  {
   "cell_type": "markdown",
   "metadata": {},
   "source": [
    "Escape-Zeichen dienen dazu z. B. nicht druckbare Zeichen einzugeben. Sie werden immer nur ein Backslash (`\\`) eingeleitet. Beispiele hierfür sind\n",
    "\n",
    "* `\\t` Tabulatorzeichen \n",
    "* `\\n` Zeilenumbruch\n",
    "* `\\\\` Backslash\n"
   ]
  },
  {
   "cell_type": "code",
   "execution_count": 93,
   "metadata": {},
   "outputs": [
    {
     "name": "stdout",
     "output_type": "stream",
     "text": [
      "hallo\n",
      "welt\txxx\\\n"
     ]
    }
   ],
   "source": [
    "print(\"hallo\\nwelt\\txxx\\\\\")"
   ]
  },
  {
   "cell_type": "markdown",
   "metadata": {},
   "source": [
    "## Stringformatierungen\n",
    "\n",
    "Tutorial: https://docs.python.org/3.7/tutorial/inputoutput.html#the-string-format-method\n",
    "\n",
    "Bisher haben wir den Inhalt von Variablen mit der `print`-Funktion in Text umgewandelt:"
   ]
  },
  {
   "cell_type": "code",
   "execution_count": 1,
   "metadata": {},
   "outputs": [
    {
     "name": "stdout",
     "output_type": "stream",
     "text": [
      "a ist 5\n"
     ]
    }
   ],
   "source": [
    "a = 5\n",
    "print(\"a ist\", a)"
   ]
  },
  {
   "cell_type": "markdown",
   "metadata": {},
   "source": [
    "Die Methode ist allerdings nur für die direkte Ausgabe geeignet. Soll die Textform eines Variableninhalts weiterverwendet werden, besteht die Möglichkeit einen neues String zu erstellen. Den Prozess dafür nennt man String-Formatierung.\n",
    "\n",
    "Das obige Beispiel kann man entsprechend auch schreiben als"
   ]
  },
  {
   "cell_type": "code",
   "execution_count": 2,
   "metadata": {},
   "outputs": [
    {
     "name": "stdout",
     "output_type": "stream",
     "text": [
      "a ist 5\n"
     ]
    }
   ],
   "source": [
    "a = 5\n",
    "s = 'a ist {}'.format(a)\n",
    "print(s)"
   ]
  },
  {
   "cell_type": "markdown",
   "metadata": {},
   "source": [
    "Beachten Sie bitte, dass hier `s` schon die Textform von `a` enthält. Weitere formen sind:"
   ]
  },
  {
   "cell_type": "code",
   "execution_count": 7,
   "metadata": {},
   "outputs": [
    {
     "name": "stdout",
     "output_type": "stream",
     "text": [
      "a ist 5\n",
      "a ist 5\n",
      "a ist 5\n"
     ]
    }
   ],
   "source": [
    "a = 5\n",
    "print( f\"a ist {a}\" )              #Formatliteral (f\"...\")\n",
    "print( \"a ist {xy}\".format(xy=a) ) #Benamte Formatierung\n",
    "print( \"a ist %d\"%a )              #Alte Form. Nicht mehr verwenden!"
   ]
  },
  {
   "cell_type": "markdown",
   "metadata": {},
   "source": [
    "Innerhalb der geschweiften Klammern kann genau angegeben werde, wie der Variableninhalt in eine Zeichenkette umgewandelt werden soll. Die genaue Spezifikation finden Sie unter https://docs.python.org/3.7/library/string.html#formatspec.\n",
    "\n",
    "Ein paar Beispiele:"
   ]
  },
  {
   "cell_type": "code",
   "execution_count": 15,
   "metadata": {},
   "outputs": [
    {
     "name": "stdout",
     "output_type": "stream",
     "text": [
      "Pi ist ungefähr 3\n",
      "Pi ist ungefähr 3.1\n",
      "Pi ist ungefähr 3.14\n",
      "Pi ist ungefähr  3.14\n",
      "Pi ist ungefähr 03.14\n",
      "Der Wert von a:5!\n",
      "Der Wert von a:   5!\n",
      "Der Wert von a:0005!\n",
      "Der Wert von a:5   !\n"
     ]
    }
   ],
   "source": [
    "a = 5\n",
    "pi = 3.14159\n",
    "\n",
    "print(\"Pi ist ungefähr {:.0f}\".format(pi))\n",
    "print(\"Pi ist ungefähr {:.1f}\".format(pi))\n",
    "print(\"Pi ist ungefähr {:.2f}\".format(pi))\n",
    "print(\"Pi ist ungefähr {:5.2f}\".format(pi))\n",
    "print(\"Pi ist ungefähr {:05.2f}\".format(pi))\n",
    "\n",
    "print(\"Der Wert von a:{:d}!\".format(a))\n",
    "print(\"Der Wert von a:{:4d}!\".format(a))\n",
    "print(\"Der Wert von a:{:04d}!\".format(a))\n",
    "print(\"Der Wert von a:{:<4d}!\".format(a))\n"
   ]
  },
  {
   "cell_type": "code",
   "execution_count": 40,
   "metadata": {},
   "outputs": [
    {
     "name": "stdout",
     "output_type": "stream",
     "text": [
      "-------------------------------------\n",
      "|    z      |   z**2    |   z**3    |\n",
      "-------------------------------------\n",
      "|    0      |    0      |    0      |\n",
      "|    1      |    1      |    1      |\n",
      "|    2      |    4      |    8      |\n",
      "|    3      |    9      |    27     |\n",
      "|    4      |    16     |    64     |\n",
      "|    5      |    25     |   125     |\n",
      "|    6      |    36     |   216     |\n",
      "|    7      |    49     |   343     |\n",
      "|    8      |    64     |   512     |\n",
      "|    9      |    81     |   729     |\n",
      "-------------------------------------\n"
     ]
    }
   ],
   "source": [
    "#Beispiel Tabelle der Quadrat und Kubikzahlen \n",
    "header = '|' + ('{:^10s} |'*3).format('z', 'z**2', 'z**3')\n",
    "line = '-'*37\n",
    "row = '|' + '{:^10d} |'*3\n",
    "\n",
    "print(line)\n",
    "print(header)\n",
    "print(line)\n",
    "for z in range(0, 10):\n",
    "    print(row.format(z, z**2, z**3))\n",
    "print(line)\n"
   ]
  },
  {
   "cell_type": "markdown",
   "metadata": {
    "toc-hr-collapsed": true
   },
   "source": [
    "## Nummerische Datentypen\n",
    "\n",
    "Tutorial: https://docs.python.org/3.7/tutorial/introduction.html#numbers"
   ]
  },
  {
   "cell_type": "markdown",
   "metadata": {
    "toc-hr-collapsed": true
   },
   "source": [
    "### Integer\n",
    "\n",
    "Integer (`int`) werden verwendet, um ganze Zahlen zu repräsentieren. Integer-Literale (Literale sind die textliche Darstellung) sind ganze Zahlen ohne Dezimalpunkt. Beispiel:"
   ]
  },
  {
   "cell_type": "code",
   "execution_count": 95,
   "metadata": {},
   "outputs": [
    {
     "name": "stdout",
     "output_type": "stream",
     "text": [
      "5 <class 'int'>\n"
     ]
    }
   ],
   "source": [
    "a = 5\n",
    "print(a, type(a))"
   ]
  },
  {
   "cell_type": "markdown",
   "metadata": {},
   "source": [
    "#### Ganzzahldivision"
   ]
  },
  {
   "cell_type": "code",
   "execution_count": 106,
   "metadata": {},
   "outputs": [
    {
     "name": "stdout",
     "output_type": "stream",
     "text": [
      "10 <class 'int'>\n",
      "4 <class 'int'>\n",
      "2 <class 'int'>\n"
     ]
    }
   ],
   "source": [
    "a = 10\n",
    "b = 4\n",
    "c = a//b\n",
    "print(a, type(a))\n",
    "print(b, type(b))\n",
    "print(c, type(c))"
   ]
  },
  {
   "cell_type": "markdown",
   "metadata": {},
   "source": [
    "### Fließkommazahlen (float)\n",
    "Fließkommazahlen (`float`) werden für die Darstellung von nicht ganzen Zahlen verwendet. Die Literale enthalten einen `.` oder ein `e` für die Exponentialdarstellung"
   ]
  },
  {
   "cell_type": "code",
   "execution_count": 103,
   "metadata": {},
   "outputs": [
    {
     "name": "stdout",
     "output_type": "stream",
     "text": [
      "5.3 <class 'float'>\n",
      "5000.0 <class 'float'>\n",
      "5.0 <class 'float'>\n"
     ]
    }
   ],
   "source": [
    "a = 5.3\n",
    "print(a, type(a))\n",
    "\n",
    "b = 5e3 #Das ist 5 * 10^3\n",
    "print(b, type(b))\n",
    "\n",
    "c = 5.\n",
    "print(c, type(c))"
   ]
  },
  {
   "cell_type": "code",
   "execution_count": 107,
   "metadata": {},
   "outputs": [
    {
     "name": "stdout",
     "output_type": "stream",
     "text": [
      "10 <class 'int'>\n",
      "3 <class 'int'>\n",
      "3.3333333333333335 <class 'float'>\n"
     ]
    }
   ],
   "source": [
    "a = 10\n",
    "b = 3\n",
    "c = a/b\n",
    "print(a, type(a))\n",
    "print(b, type(b))\n",
    "print(c, type(c))\n"
   ]
  },
  {
   "cell_type": "markdown",
   "metadata": {},
   "source": [
    "### Genauigkeit von Fließkommazahlen\n",
    "\n",
    "Der Datentyp float ist nicht in jedem Fall genau. So gibt es z. B. für die Zahl 0.1 keine exakte Repräsentation, wie im folgenden Beispiel zu sehen ist."
   ]
  },
  {
   "cell_type": "code",
   "execution_count": 124,
   "metadata": {},
   "outputs": [
    {
     "name": "stdout",
     "output_type": "stream",
     "text": [
      "0.100000000000000005551115123126\n"
     ]
    }
   ],
   "source": [
    "a = 0.1\n",
    "print('{:.30f}'.format(a))"
   ]
  },
  {
   "cell_type": "markdown",
   "metadata": {},
   "source": [
    "Entsprechend ist z. B. `a + a + a + a + a + a + a + a + a + a` nicht das Gleiche wie `1.0`"
   ]
  },
  {
   "cell_type": "code",
   "execution_count": 129,
   "metadata": {},
   "outputs": [
    {
     "name": "stdout",
     "output_type": "stream",
     "text": [
      "b != 1.0\n",
      "b hat den Wert 0.999999999999999888977697537484\n"
     ]
    }
   ],
   "source": [
    "a = 0.1\n",
    "b = a + a + a + a + a + a + a + a + a + a\n",
    "if (1.0 == b):\n",
    "    print(\"b = 1.0\")\n",
    "else:\n",
    "    print(\"b != 1.0\")\n",
    "print(\"b hat den Wert {:.30f}\".format(b))"
   ]
  },
  {
   "cell_type": "markdown",
   "metadata": {},
   "source": [
    "### Eine genaue Kommazahl (decimal.Decimal)\n",
    "Durch Verwendung des Moduls `decimal` ist es möglich genau mit Kommazahlen zu rechen. Der Nachteil hierbei ist die erheblich reduzierte Rechengeschwindigkeit."
   ]
  },
  {
   "cell_type": "code",
   "execution_count": 133,
   "metadata": {},
   "outputs": [
    {
     "name": "stdout",
     "output_type": "stream",
     "text": [
      "b = 1.0\n",
      "b hat den Wert 1.000000000000000000000000000000\n"
     ]
    }
   ],
   "source": [
    "from decimal import Decimal\n",
    "a = Decimal('0.1')\n",
    "b = a + a + a + a + a + a + a + a + a + a\n",
    "\n",
    "if (1.0 == b):\n",
    "    print(\"b = 1.0\")\n",
    "else:\n",
    "    print(\"b != 1.0\")\n",
    "print(\"b hat den Wert {:.30f}\".format(b))"
   ]
  },
  {
   "cell_type": "markdown",
   "metadata": {},
   "source": [
    "### Operatoren\n",
    "Es stehen die üblichen Operatoren `+-*/` zur Verfügung. Darüber hinaus gibt es noch die Ganzzahldivision `//` und den Exponentialoperator `**`."
   ]
  },
  {
   "cell_type": "code",
   "execution_count": 137,
   "metadata": {},
   "outputs": [
    {
     "name": "stdout",
     "output_type": "stream",
     "text": [
      "2 hoch 8 =  256\n",
      "Wurzel aus 2 ist 1.4142135623730951\n"
     ]
    }
   ],
   "source": [
    "print(\"2 hoch 8 = \", 2**8)\n",
    "print(\"Wurzel aus 2 ist\", 2**.5)"
   ]
  },
  {
   "cell_type": "markdown",
   "metadata": {},
   "source": [
    "### Operatorvorrang\n",
    "\n",
    "Wie auch in der Mathematik üblich gilt bei Python Punkt vor Strichrechnung. Runde Klammern können gesetzt werden."
   ]
  },
  {
   "cell_type": "code",
   "execution_count": 135,
   "metadata": {},
   "outputs": [
    {
     "name": "stdout",
     "output_type": "stream",
     "text": [
      "20\n",
      "20\n",
      "24\n"
     ]
    }
   ],
   "source": [
    "print( 3*6+2 )\n",
    "print( 2+3*6 )\n",
    "print( 3*(6+2) )\n"
   ]
  },
  {
   "cell_type": "markdown",
   "metadata": {},
   "source": [
    "## Umwandlung von Datentypen"
   ]
  },
  {
   "cell_type": "code",
   "execution_count": 111,
   "metadata": {},
   "outputs": [
    {
     "name": "stdout",
     "output_type": "stream",
     "text": [
      "25.74 25\n"
     ]
    }
   ],
   "source": [
    "#float -> int\n",
    "a = 25.74\n",
    "b = int(a)\n",
    "print(a, b)"
   ]
  },
  {
   "cell_type": "code",
   "execution_count": 112,
   "metadata": {},
   "outputs": [
    {
     "name": "stdout",
     "output_type": "stream",
     "text": [
      "5 5.0\n"
     ]
    }
   ],
   "source": [
    "#int -> float\n",
    "a = 5\n",
    "b = float(a)\n",
    "print(a, b)"
   ]
  },
  {
   "cell_type": "code",
   "execution_count": 115,
   "metadata": {},
   "outputs": [
    {
     "name": "stdout",
     "output_type": "stream",
     "text": [
      "1492 <class 'str'>\n",
      "1492 <class 'int'>\n",
      "14921492\n",
      "2984\n"
     ]
    }
   ],
   "source": [
    "#String -> int\n",
    "a = '1492'\n",
    "b = int(a)\n",
    "print(a, type(a))\n",
    "print(b, type(b))\n",
    "print(a*2)\n",
    "print(b*2)"
   ]
  },
  {
   "cell_type": "code",
   "execution_count": 116,
   "metadata": {},
   "outputs": [
    {
     "name": "stdout",
     "output_type": "stream",
     "text": [
      "0x9A ist in Dezimalschreibweise 154\n"
     ]
    }
   ],
   "source": [
    "#String -> int mit einer anderen Basis als 10\n",
    "a = '9A'\n",
    "b = int(a, 16)\n",
    "print('0x{} ist in Dezimalschreibweise {}'.format(a,b))"
   ]
  },
  {
   "cell_type": "code",
   "execution_count": 117,
   "metadata": {},
   "outputs": [
    {
     "name": "stdout",
     "output_type": "stream",
     "text": [
      "5 <class 'int'>\n",
      "5 <class 'str'>\n"
     ]
    }
   ],
   "source": [
    "#int -> String\n",
    "a = 5\n",
    "b = str(a)\n",
    "print(a, type(a))\n",
    "print(b, type(b))"
   ]
  },
  {
   "cell_type": "code",
   "execution_count": 122,
   "metadata": {},
   "outputs": [
    {
     "name": "stdout",
     "output_type": "stream",
     "text": [
      "154 ist in Hexadezimalschreibweise 0x9a\n",
      "154 ist in Hexadezimalschreibweise 0x9A\n",
      "154 ist in Hexadezimalschreibweise 0x0000009A\n"
     ]
    }
   ],
   "source": [
    "#int -> String (Hexadezimal)\n",
    "a = 154\n",
    "b = '{:x}'.format(a)\n",
    "print('{} ist in Hexadezimalschreibweise 0x{}'.format(a,b))\n",
    "\n",
    "b = '{:X}'.format(a)\n",
    "print('{} ist in Hexadezimalschreibweise 0x{}'.format(a,b))\n",
    "\n",
    "b = '{:08X}'.format(a)\n",
    "print('{} ist in Hexadezimalschreibweise 0x{}'.format(a,b))"
   ]
  },
  {
   "cell_type": "markdown",
   "metadata": {
    "toc-hr-collapsed": true
   },
   "source": [
    "## Listen\n",
    "\n",
    "Tutorials: \n",
    "* Einführung: https://docs.python.org/3.7/tutorial/introduction.html#lists\n",
    "* Weiterführung: https://docs.python.org/3.7/tutorial/datastructures.html#more-on-lists\n",
    "\n",
    "\n",
    "Listen können beliebige und beliebig viele Objekte enthalten. Leere Listen können mit `list()` oder `[]` erzeugt werden."
   ]
  },
  {
   "cell_type": "code",
   "execution_count": 163,
   "metadata": {},
   "outputs": [
    {
     "name": "stdout",
     "output_type": "stream",
     "text": [
      "Die Liste hat 0 Einträge.\n"
     ]
    }
   ],
   "source": [
    "empty = []\n",
    "print(\"Die Liste hat {} Einträge.\".format(len(empty)))"
   ]
  },
  {
   "cell_type": "markdown",
   "metadata": {},
   "source": [
    "Durch kommagetrennte Angabe der Objekte wird eine Liste erstellt:"
   ]
  },
  {
   "cell_type": "code",
   "execution_count": 165,
   "metadata": {},
   "outputs": [
    {
     "name": "stdout",
     "output_type": "stream",
     "text": [
      "[3, 2, 'fünf', 9.0]\n",
      "Die Liste hat 4 Einträge.\n"
     ]
    }
   ],
   "source": [
    "l = [3,2,'fünf',9.0]\n",
    "print(l)\n",
    "print(\"Die Liste hat {} Einträge.\".format(len(l)))"
   ]
  },
  {
   "cell_type": "markdown",
   "metadata": {},
   "source": [
    "### Methoden\n",
    "\n",
    "Listen haben eine Anzahl von Methoden, um auf den Objekten zu arbeiten. Sie erhalten eine Beschreibung der Methoden mit `help(list)`"
   ]
  },
  {
   "cell_type": "code",
   "execution_count": 182,
   "metadata": {},
   "outputs": [
    {
     "name": "stdout",
     "output_type": "stream",
     "text": [
      "Help on method_descriptor:\n",
      "\n",
      "append(self, object, /)\n",
      "    Append object to the end of the list.\n",
      "\n",
      "['HAW'] 1\n",
      "['HAW', 5] 2\n"
     ]
    }
   ],
   "source": [
    "#Hier als Beispiel die Hilfe zur Append-Methode\n",
    "help(list.append)\n",
    "\n",
    "l = ['HAW']\n",
    "print(l, len(l))\n",
    "l.append(5)\n",
    "print(l, len(l))"
   ]
  },
  {
   "cell_type": "code",
   "execution_count": 223,
   "metadata": {},
   "outputs": [
    {
     "name": "stdout",
     "output_type": "stream",
     "text": [
      "Help on method_descriptor:\n",
      "\n",
      "sort(self, /, *, key=None, reverse=False)\n",
      "    Stable sort *IN PLACE*.\n",
      "\n",
      "Aufsteigende Zahlen a=[0, 1, 2, 3, 4, 5, 6, 7, 8, 9, 10, 11, 12, 13, 14, 15, 16, 17, 18, 19]\n",
      "Zufällige Liste     a=[0, 14, 1, 18, 16, 9, 7, 19, 12, 11, 17, 10, 6, 8, 2, 15, 3, 4, 5, 13]\n",
      "Sortiert            a=[0, 1, 2, 3, 4, 5, 6, 7, 8, 9, 10, 11, 12, 13, 14, 15, 16, 17, 18, 19]\n"
     ]
    }
   ],
   "source": [
    "#Hier als weiteres Beispiel die Hilfe zur sort-Methode\n",
    "help(list.sort)\n",
    "\n",
    "import random\n",
    "\n",
    "a = list( range(20) )\n",
    "print(\"Aufsteigende Zahlen a={}\".format(a))\n",
    "\n",
    "random.shuffle(a)\n",
    "print(\"Zufällige Liste     a={}\".format(a))\n",
    "\n",
    "a.sort()\n",
    "print(\"Sortiert            a={}\".format(a))\n"
   ]
  },
  {
   "cell_type": "markdown",
   "metadata": {},
   "source": [
    "### Zugriff auf einzelne Elemente\n",
    "Der Zugriff erfolgt mit dem Index (0-Basiert) in Eckigen Klammern.\n",
    "\n",
    "* `[n]` Das n-te Element von links (n=0 ist das ganz linke Element)\n",
    "* `[-n]` Das n-te Element von rechts (n=-1 ist das ganz rechte Element)\n",
    "* `[start:end]` Alle Elemente zwischen start und end (end exklusive)\n",
    "* `[start:end:step]` Alle Elemente zwischen start und end (end exklusive) mit Schrittweite step\n",
    "\n"
   ]
  },
  {
   "cell_type": "code",
   "execution_count": 195,
   "metadata": {},
   "outputs": [
    {
     "name": "stdout",
     "output_type": "stream",
     "text": [
      "grün\n",
      "violett\n",
      "['rot', 'grün']\n",
      "['grün', 'violett']\n",
      "['violett', 'blau', 'grün', 'rot']\n"
     ]
    }
   ],
   "source": [
    "s = 'rot,grün,blau,violett'.split(',')\n",
    "print(s[1])\n",
    "print(s[-1])\n",
    "print(s[0:2])\n",
    "print(s[1:4:2])\n",
    "print(s[::-1])  #Weglassen von start und oder end setzt jeweils die linke bzw. rechte Position ein."
   ]
  },
  {
   "cell_type": "markdown",
   "metadata": {},
   "source": [
    "### Verändert von Elementen\n",
    "Listen sind veränderbar und die Inhalte können somit beschrieben werden."
   ]
  },
  {
   "cell_type": "code",
   "execution_count": 196,
   "metadata": {},
   "outputs": [
    {
     "name": "stdout",
     "output_type": "stream",
     "text": [
      "['rot', 'grün', 'blau', 'gelb']\n"
     ]
    }
   ],
   "source": [
    "s = 'rot,grün,blau,violett'.split(',')\n",
    "s[-1] = 'gelb'\n",
    "print(s)"
   ]
  },
  {
   "cell_type": "markdown",
   "metadata": {},
   "source": [
    "### Kopieren von Listen\n",
    "\n",
    "ACHTUNG. Beim Zuweisen einer Liste auf eine andere (`L2 = L1`) wird keine Kopie der Elemente sondern nur eine Referenz erzeugt."
   ]
  },
  {
   "cell_type": "code",
   "execution_count": 198,
   "metadata": {},
   "outputs": [
    {
     "name": "stdout",
     "output_type": "stream",
     "text": [
      "['a', 'Z', 'c'] 2177137503496\n",
      "['a', 'Z', 'c'] 2177137503496\n"
     ]
    }
   ],
   "source": [
    "a = ['a', 'b', 'c']\n",
    "b = a\n",
    "b[1] = 'Z'\n",
    "print(a, id(a))\n",
    "print(b, id(b))"
   ]
  },
  {
   "cell_type": "markdown",
   "metadata": {},
   "source": [
    "Sie sehen, dass beide Listen verändert wurden, obwohl im Code nur eine Veränderung von `b[1]` vorgenommen wurde. Beide Variablen zeigen auf die selbe Liste. Das kann mit der Funktion id überprüft werden.\n",
    "\n",
    "Wenn Sie Listen kopieren möchten, dann verwenden Sie die `.copy`-Methode"
   ]
  },
  {
   "cell_type": "code",
   "execution_count": 199,
   "metadata": {},
   "outputs": [
    {
     "name": "stdout",
     "output_type": "stream",
     "text": [
      "['a', 'b', 'c'] 2177133823752\n",
      "['a', 'Z', 'c'] 2177130749384\n"
     ]
    }
   ],
   "source": [
    "a = ['a', 'b', 'c']\n",
    "b = a.copy()\n",
    "b[1] = 'Z'\n",
    "print(a, id(a))\n",
    "print(b, id(b))"
   ]
  },
  {
   "cell_type": "markdown",
   "metadata": {},
   "source": [
    "### Operatoren auf Listen"
   ]
  },
  {
   "cell_type": "code",
   "execution_count": 204,
   "metadata": {},
   "outputs": [
    {
     "name": "stdout",
     "output_type": "stream",
     "text": [
      "['hallo', 'welt', 3, 6]\n",
      "['hallo', 'welt', 'hallo', 'welt']\n",
      "['hallo', 'welt', 'hallo', 'welt', 3, 6, 3, 6, 3, 6]\n"
     ]
    }
   ],
   "source": [
    "a = ['hallo', 'welt']\n",
    "b = [3, 6]\n",
    "print(a+b)  #Verketten\n",
    "print(a*2)  #Replizieren\n",
    "print(a*2+b*3)"
   ]
  },
  {
   "cell_type": "markdown",
   "metadata": {},
   "source": [
    "### Übung"
   ]
  },
  {
   "cell_type": "markdown",
   "metadata": {},
   "source": [
    "Füllen Sie die Datei `\"prog1_ss2020\\jerry-git\\notebooks\\beginner\\exercises\\lists_exercise.ipynb\"` aus."
   ]
  },
  {
   "cell_type": "markdown",
   "metadata": {},
   "source": [
    "## Dictionaries\n",
    "Tutorial: https://docs.python.org/3.7/tutorial/datastructures.html#dictionaries\n",
    "\n",
    "Der Datentyp `dict` bietet eine Art Telefonbuch mit dem `key` als Suchbegriff und dem `key` als Ergebnis. Leere Dictionary werden mit `dict()` oder `{}` erzeugt. Sie erhalten eine Beschreibung der Methoden mit `help(dict)`"
   ]
  },
  {
   "cell_type": "code",
   "execution_count": 177,
   "metadata": {},
   "outputs": [
    {
     "name": "stdout",
     "output_type": "stream",
     "text": [
      "{} 0 <class 'dict'>\n"
     ]
    }
   ],
   "source": [
    "d = {}\n",
    "print(d, len(d), type(d))"
   ]
  },
  {
   "cell_type": "markdown",
   "metadata": {},
   "source": [
    "Das Initialisieren kann z. B. mit `{key1:value1, key2:value2...}` erfolgen:"
   ]
  },
  {
   "cell_type": "code",
   "execution_count": 178,
   "metadata": {},
   "outputs": [
    {
     "name": "stdout",
     "output_type": "stream",
     "text": [
      "Dieter ist in Raum 437\n"
     ]
    }
   ],
   "source": [
    "RaumNr = {'Dieter':437, 'Marie':888}\n",
    "\n",
    "#Die Abfrage erfolgt durch den Schlüssel in Eckigen Klammern\n",
    "print(\"Dieter ist in Raum {}\".format( RaumNr['Dieter'] ))"
   ]
  },
  {
   "cell_type": "code",
   "execution_count": 181,
   "metadata": {},
   "outputs": [
    {
     "name": "stdout",
     "output_type": "stream",
     "text": [
      "dict_keys(['Dieter', 'Marie'])\n",
      "dict_values([437, 888])\n"
     ]
    }
   ],
   "source": [
    "Keys = RaumNr.keys()\n",
    "Values = RaumNr.values()\n",
    "print(Keys)\n",
    "print(Values)"
   ]
  },
  {
   "cell_type": "markdown",
   "metadata": {},
   "source": [
    "## Was es noch gibt\n",
    "\n",
    "Bitte schauen Sie sich an:\n",
    "* Tuple: https://docs.python.org/3.7/tutorial/datastructures.html#tuples-and-sequences\n",
    "* Sets: https://docs.python.org/3.7/tutorial/datastructures.html#sets\n",
    "    "
   ]
  },
  {
   "cell_type": "markdown",
   "metadata": {
    "toc-hr-collapsed": true
   },
   "source": [
    "# Programmfluss"
   ]
  },
  {
   "cell_type": "markdown",
   "metadata": {},
   "source": [
    "## Erzeugen von Wahrheitswerten (`True` / `False`)\n",
    "Grundlage für die bedingte Verzweigung ist eine wahre oder falsche Aussage. Variablen können mit Hilfe der Operaten `==, !=, >, <, >=, <=` \"getestet\" werden."
   ]
  },
  {
   "cell_type": "code",
   "execution_count": 143,
   "metadata": {},
   "outputs": [
    {
     "name": "stdout",
     "output_type": "stream",
     "text": [
      "False\n",
      "False\n",
      "True\n",
      "True\n",
      "False\n",
      "True\n"
     ]
    }
   ],
   "source": [
    "a = 3\n",
    "b = 4\n",
    "print(a > b)  #größer\n",
    "print(a >= b) #größer gleich\n",
    "print(a < b)  #kleiner\n",
    "print(a <= b) #kleiner gleich\n",
    "print(a == b) #gleich\n",
    "print(a != b) #ungleich"
   ]
  },
  {
   "cell_type": "markdown",
   "metadata": {},
   "source": [
    "Verkette Abfragen sind möglich"
   ]
  },
  {
   "cell_type": "code",
   "execution_count": 147,
   "metadata": {},
   "outputs": [
    {
     "name": "stdout",
     "output_type": "stream",
     "text": [
      "True\n",
      "False\n"
     ]
    }
   ],
   "source": [
    "a = 3\n",
    "b = 9\n",
    "c = 20\n",
    "\n",
    "print( a < b < c )\n",
    "print( c < b < a )"
   ]
  },
  {
   "cell_type": "markdown",
   "metadata": {},
   "source": [
    "Wahrheitswerte können mit Hilfe der Operatoren `and, or, not` verknüpft werden"
   ]
  },
  {
   "cell_type": "code",
   "execution_count": 151,
   "metadata": {},
   "outputs": [
    {
     "name": "stdout",
     "output_type": "stream",
     "text": [
      "Python and java are both cool: False\n",
      "secret_value and python_is_cool: True\n",
      "Java is not cool: True\n"
     ]
    }
   ],
   "source": [
    "python_is_cool = True\n",
    "java_is_cool = False\n",
    "\n",
    "print('Python and java are both cool: {}'.format(python_is_cool and java_is_cool))\n",
    "print('secret_value and python_is_cool: {}'.format(secret_value and python_is_cool))\n",
    "print('Java is not cool: {}'.format(not java_is_cool))"
   ]
  },
  {
   "cell_type": "markdown",
   "metadata": {},
   "source": [
    "## Bedingte Verzweigung\n",
    "Tutorial: https://docs.python.org/3.7/tutorial/controlflow.html#if-statements\n",
    "\n",
    "Mit Hilfe des `if`-Statements kann der sonst lineare Programmablauf (von oben nach unten, Zeile für Zeile) umgelegt werden. Dies geschieht in Abhängigkeit von einem Wahrheitswert:"
   ]
  },
  {
   "cell_type": "code",
   "execution_count": 160,
   "metadata": {},
   "outputs": [
    {
     "name": "stdout",
     "output_type": "stream",
     "text": [
      "Es gilt nicht 5 > 100\n"
     ]
    }
   ],
   "source": [
    "a = 5\n",
    "b = 100\n",
    "if a > b:\n",
    "    print(\"Es gilt {} > {}\".format(a,b))\n",
    "    \n",
    "if not (a>b):\n",
    "    print(\"Es gilt nicht {} > {}\".format(a,b))"
   ]
  },
  {
   "cell_type": "markdown",
   "metadata": {},
   "source": [
    "Das obige Beispiel ist ungünstig, weil die inverse Bedingung abgeprüft werden muss. Hier bietet sich das `else`-Statement an:"
   ]
  },
  {
   "cell_type": "code",
   "execution_count": null,
   "metadata": {},
   "outputs": [],
   "source": [
    "a = 5\n",
    "b = 100\n",
    "if (a > b):\n",
    "    print(\"Es gilt {} > {}\".format(a,b))\n",
    "else:\n",
    "    print(\"Es gilt nicht {} > {}\".format(a,b))"
   ]
  },
  {
   "cell_type": "markdown",
   "metadata": {},
   "source": [
    "Zwischen `if` und `else` können `elif`-Statements platziert werden. Sie haben die Bedeutung \"Sonst, wenn...\""
   ]
  },
  {
   "cell_type": "code",
   "execution_count": 162,
   "metadata": {},
   "outputs": [
    {
     "name": "stdout",
     "output_type": "stream",
     "text": [
      "value is greater than 10 but less than 100\n"
     ]
    }
   ],
   "source": [
    "val = 88\n",
    "if val >= 100:\n",
    "    print('value is equal or greater than 100')\n",
    "elif val > 10:\n",
    "    print('value is greater than 10 but less than 100')\n",
    "else:\n",
    "    print('value is equal or less than 10')"
   ]
  },
  {
   "cell_type": "markdown",
   "metadata": {
    "toc-hr-collapsed": true
   },
   "source": [
    "## Die For-Schleife\n",
    "Tutorials:\n",
    "* For-Schleife: https://docs.python.org/3.7/tutorial/controlflow.html#for-statements\n",
    "* Range-Funktion: https://docs.python.org/3.7/tutorial/controlflow.html#the-range-function\n",
    "\n",
    "Die For-Schleife in Python (in anderen Sprachen entspricht diese den foreach-Schleifen) läuft über alle Einträge einer Sequenz. Im Kontext der For-Schleife ist die wichtigste Sequenz die Liste.\n",
    "\n",
    "Für jeden Durchlauf wird ein Objekt der Sequenz der Laufvariable zugewiesen und der Funktionsrumpf ausgeführt."
   ]
  },
  {
   "cell_type": "code",
   "execution_count": 227,
   "metadata": {},
   "outputs": [
    {
     "name": "stdout",
     "output_type": "stream",
     "text": [
      "1\n",
      "2\n",
      "3\n",
      "4\n",
      "Python\n",
      "is\n",
      "neat\n"
     ]
    }
   ],
   "source": [
    "my_list = [1, 2, 3, 4, 'Python', 'is', 'neat']\n",
    "for item in my_list:\n",
    "    print(item)"
   ]
  },
  {
   "cell_type": "markdown",
   "metadata": {},
   "source": [
    "Sehr oft ist es nötig einen Zahlenbereich zu durchlaufen. Hier gibt es die praktische Funktion `range(n)`, die die Zahlen `0 ... (n-1)` erzeugt.\n",
    "\n",
    "* `range(a,b)` erzeugt `a ... (b-1)`\n",
    "* `range(a,b,s)` erzeugt `a ... (b-1)` mit Schrittweite `s`\n"
   ]
  },
  {
   "cell_type": "code",
   "execution_count": 230,
   "metadata": {},
   "outputs": [
    {
     "name": "stdout",
     "output_type": "stream",
     "text": [
      "0\n",
      "1\n",
      "2\n",
      "3\n"
     ]
    }
   ],
   "source": [
    "for i in range(4):\n",
    "    print(i)"
   ]
  },
  {
   "cell_type": "code",
   "execution_count": 233,
   "metadata": {},
   "outputs": [
    {
     "name": "stdout",
     "output_type": "stream",
     "text": [
      "8\n",
      "11\n",
      "14\n"
     ]
    }
   ],
   "source": [
    "for i in range(8, 16, 3):\n",
    "    print(i)"
   ]
  },
  {
   "cell_type": "markdown",
   "metadata": {},
   "source": [
    "### Abbrechen mit `break`\n",
    "https://docs.python.org/3.7/tutorial/controlflow.html#break-and-continue-statements-and-else-clauses-on-loops\n",
    "\n",
    "Wird im Schleifen-Rumpf die Anweisung `break` ausgeführt, wird die Schleife sofort verlassen."
   ]
  },
  {
   "cell_type": "code",
   "execution_count": 234,
   "metadata": {},
   "outputs": [
    {
     "name": "stdout",
     "output_type": "stream",
     "text": [
      "1\n",
      "2\n",
      "3\n",
      "4\n"
     ]
    }
   ],
   "source": [
    "my_list = [1, 2, 3, 4, 'Python', 'is', 'neat']\n",
    "\n",
    "for item in my_list:\n",
    "    if item == 'Python':\n",
    "        break\n",
    "    print(item)"
   ]
  },
  {
   "cell_type": "markdown",
   "metadata": {},
   "source": [
    "### Rest überspringen mit `continue`\n",
    "https://docs.python.org/3.7/tutorial/controlflow.html#break-and-continue-statements-and-else-clauses-on-loops\n",
    "\n",
    "Wird im Schleifen-Rumpf die Anweisung `continue` ausgeführt, springt die Schleife sofort zum nächsten Objekt und beginnt mit der erneuten Ausführung des Schleifenrumpfes von Anfang an."
   ]
  },
  {
   "cell_type": "code",
   "execution_count": 235,
   "metadata": {},
   "outputs": [
    {
     "name": "stdout",
     "output_type": "stream",
     "text": [
      "2\n",
      "3\n",
      "4\n",
      "Python\n",
      "is\n",
      "neat\n"
     ]
    }
   ],
   "source": [
    "my_list = [1, 2, 3, 4, 'Python', 'is', 'neat']\n",
    "\n",
    "for item in my_list:\n",
    "    if item == 1:\n",
    "        continue\n",
    "    print(item)"
   ]
  },
  {
   "cell_type": "markdown",
   "metadata": {},
   "source": [
    "### Das Dictionary als Sequenz"
   ]
  },
  {
   "cell_type": "code",
   "execution_count": 259,
   "metadata": {},
   "outputs": [
    {
     "name": "stdout",
     "output_type": "stream",
     "text": [
      "hacker     =       True\n",
      "age        =         72\n",
      "name       =   John Doe\n"
     ]
    }
   ],
   "source": [
    "my_dict = {'hacker': True, 'age': 72, 'name': 'John Doe'}\n",
    "for key in my_dict:\n",
    "    value = str(my_dict[key])\n",
    "    print(\"{:<10s} = {:>10s}\".format(key, value))"
   ]
  },
  {
   "cell_type": "markdown",
   "metadata": {},
   "source": [
    "## Die While-Schleife\n",
    "\n",
    "Dieser Schleifentyp führt den Schleifenrumpf so oft wieder aus, bis die Bedingung nicht mehr wahr ist.\n",
    "Syntax:\n",
    "\n",
    "`while(<Bedingung>):\n",
    "     <Schleifenfumpf>`"
   ]
  },
  {
   "cell_type": "code",
   "execution_count": 24,
   "metadata": {},
   "outputs": [
    {
     "name": "stdout",
     "output_type": "stream",
     "text": [
      "Es mussten die ersten 15 Zahlen aufaddiert werden, damit die Summe nicht mehr kleiner als 100 ist.\n"
     ]
    }
   ],
   "source": [
    "summe = 0\n",
    "counter = 0\n",
    "maxwert = 100\n",
    "while(summe <= maxwert):\n",
    "    summe += counter\n",
    "    counter += 1\n",
    "    print(\"{}\")\n",
    "    \n",
    "print(\"Es mussten die ersten {} Zahlen aufaddiert werden, damit die Summe nicht mehr kleiner als {} ist.\".format(counter, maxwert))"
   ]
  },
  {
   "cell_type": "markdown",
   "metadata": {
    "toc-hr-collapsed": true
   },
   "source": [
    "## Funktionen \n",
    "Tutorial: https://docs.python.org/3.7/tutorial/controlflow.html#defining-functions\n",
    "\n",
    "Mit Hilfe von Funktionen (bzw. Methoden in der objektorientierten Programmierung) können Programme gut strukturiert werden. Sie ermöglichen es, ein Programm übersichtlich, wartbar und weniger fehleranfällig zu gestalten.\n",
    "\n",
    "Funktionen besitzen immer einen *Namen* und im allgemeinen *Parameter* und *Rückgabe*. Sie werden verwendet durch Ihren *Aufruf* (`<name>(<parameter>)`). Wir haben bis jetzt schon einige Funktionen verwendet. Darunter war die `print`-Funktion. Um etwas auf dem Bildschirm auszugeben, haben wir diese Funktion aufgerufen mit dem auszugebenen Objekt als Parameter:"
   ]
  },
  {
   "cell_type": "code",
   "execution_count": 5,
   "metadata": {},
   "outputs": [
    {
     "name": "stdout",
     "output_type": "stream",
     "text": [
      "hallo\n"
     ]
    }
   ],
   "source": [
    "print(\"hallo\")"
   ]
  },
  {
   "cell_type": "markdown",
   "metadata": {},
   "source": [
    "Dieser Aufruf übergibt den einen Parameter `\"hallo\"` and die Funktion `print`. Es gibt keine Rückgabe! Nicht zu verwecheln mit der *Ausgabe* auf dem Bildschirm. \n",
    "\n",
    "Im folgenden sehen Sie den Aufruf der Funktion `sqrt` aus dem Python-Modul `math`. Sie berechnet die Quadratwurzel aus dem einen Parameter. Die Rückgabe einer Funktion kann z. B. genutzt werden für eine Variablenzuweisung, wie in diesem Fall."
   ]
  },
  {
   "cell_type": "code",
   "execution_count": 10,
   "metadata": {},
   "outputs": [
    {
     "name": "stdout",
     "output_type": "stream",
     "text": [
      "1.4142135623730951\n"
     ]
    }
   ],
   "source": [
    "from math import sqrt\n",
    "\n",
    "a = sqrt(2)\n",
    "print(a)"
   ]
  },
  {
   "cell_type": "markdown",
   "metadata": {},
   "source": [
    "Natürlich können die Rückgabewerte aber auch verwendet werden, um direkt in einer anderen Funktion verwendet zu werden. So gibt `print(sqrt(2))` das Ergebnis direkt auf dem Bildschirm aus, ohne den Umweg über eine Variable zu gehen."
   ]
  },
  {
   "cell_type": "markdown",
   "metadata": {},
   "source": [
    "### Definition eigener Funktionen"
   ]
  },
  {
   "cell_type": "markdown",
   "metadata": {},
   "source": [
    "Mit dem Schlüsselwort `def` können eigene Funktionen erstellt werden. In diesem Beispiel wird eine Funktion mit Namen `mult2`erstellt, die einen Parameter erhält. Die Rückgabe wird nicht extra bei der Definition angegeben, sondern ergibt sich, sobald während der Funktionrumpfausführung das Schlüsselwort `return` ausgeführt wird. Dieses bewirkt ein sofortiges Verlassen der Funktion. Folgende Befehle werden nicht mehr ausgeführt."
   ]
  },
  {
   "cell_type": "code",
   "execution_count": 19,
   "metadata": {},
   "outputs": [
    {
     "name": "stdout",
     "output_type": "stream",
     "text": [
      "10\n",
      "55\n",
      "10\n"
     ]
    }
   ],
   "source": [
    "def mult2(z):\n",
    "    return z*2\n",
    "\n",
    "print( mult2(5) )\n",
    "print( mult2('5') )\n",
    "\n",
    "a = mult2(3) + mult2(2)\n",
    "print(a)"
   ]
  },
  {
   "cell_type": "markdown",
   "metadata": {},
   "source": [
    "Es können auch Funktionen ohne Parameter definiert werden:"
   ]
  },
  {
   "cell_type": "code",
   "execution_count": 20,
   "metadata": {},
   "outputs": [
    {
     "name": "stdout",
     "output_type": "stream",
     "text": [
      "Hallo\n"
     ]
    }
   ],
   "source": [
    "def printHallo():\n",
    "    print(\"Hallo\")\n",
    "    \n",
    "printHallo()"
   ]
  },
  {
   "cell_type": "markdown",
   "metadata": {},
   "source": [
    "Oder Funktionen mit mehreren Parametern"
   ]
  },
  {
   "cell_type": "code",
   "execution_count": 21,
   "metadata": {},
   "outputs": [
    {
     "name": "stdout",
     "output_type": "stream",
     "text": [
      "107\n"
     ]
    }
   ],
   "source": [
    "def add(z1, z2, z3):\n",
    "    return z1 + z2 + z3\n",
    "\n",
    "print( add(2,5,100) )"
   ]
  },
  {
   "cell_type": "markdown",
   "metadata": {},
   "source": [
    "Es müssen immer alle Parameter angegeben werden, wenn nicht ein Standardwert vergeben wurde:"
   ]
  },
  {
   "cell_type": "code",
   "execution_count": 31,
   "metadata": {},
   "outputs": [
    {
     "name": "stdout",
     "output_type": "stream",
     "text": [
      "107\n",
      "7\n"
     ]
    }
   ],
   "source": [
    "def add(z1, z2, z3=0):\n",
    "    return z1 + z2 + z3\n",
    "\n",
    "print( add(2,5,100) )\n",
    "print( add(2,5) )\n",
    "#print( add(2) )  #Fehler, weil für z2 kein Standardwert existiert"
   ]
  },
  {
   "cell_type": "markdown",
   "metadata": {},
   "source": [
    "### Doc-String"
   ]
  },
  {
   "cell_type": "markdown",
   "metadata": {},
   "source": [
    "Oft ist es eine gute Idee die Aufgabe einer Funktion in einen Hilfetext zu schreiben. Speziell, wenn direkt nach der def-Zeile ein String folgt, dann ist dieser die Hilfe der Funktion. Die Hilfe kann mit `help(<name>)` aufgerufen werden."
   ]
  },
  {
   "cell_type": "code",
   "execution_count": 24,
   "metadata": {},
   "outputs": [],
   "source": [
    "def square(z):\n",
    "    \"\"\"\n",
    "    Berechnet das Quadrat von z\n",
    "    Rückgabe:\n",
    "        z zum Quadrat\n",
    "    \"\"\"\n",
    "    return z*z"
   ]
  },
  {
   "cell_type": "code",
   "execution_count": 25,
   "metadata": {},
   "outputs": [
    {
     "name": "stdout",
     "output_type": "stream",
     "text": [
      "Help on function square in module __main__:\n",
      "\n",
      "square(z)\n",
      "    Berechnet das Quadrat von z\n",
      "    Rückgabe:\n",
      "        z zum Quadrat\n",
      "\n"
     ]
    }
   ],
   "source": [
    "help(square)"
   ]
  },
  {
   "cell_type": "code",
   "execution_count": 26,
   "metadata": {},
   "outputs": [
    {
     "name": "stdout",
     "output_type": "stream",
     "text": [
      "Help on built-in function cos in module math:\n",
      "\n",
      "cos(x, /)\n",
      "    Return the cosine of x (measured in radians).\n",
      "\n"
     ]
    }
   ],
   "source": [
    "#Das funktioniert für alle Funktionen\n",
    "from math import cos\n",
    "help(cos)"
   ]
  },
  {
   "cell_type": "markdown",
   "metadata": {
    "toc-hr-collapsed": true
   },
   "source": [
    "# Eingebaute Funktionen\n",
    "\n",
    "Hier werden nur einige der eingebauten Funktionen gezeigt. Eine komplette Liste finden Sie unter https://docs.python.org/3.7/library/functions.html"
   ]
  },
  {
   "cell_type": "markdown",
   "metadata": {},
   "source": [
    "## sum() \n",
    "Berechnet die Summe einer Sequenz von Zahlen"
   ]
  },
  {
   "cell_type": "code",
   "execution_count": 4,
   "metadata": {},
   "outputs": [
    {
     "name": "stdout",
     "output_type": "stream",
     "text": [
      "Die Summe der Zahlen von 1 bis 100 ist 5050\n"
     ]
    }
   ],
   "source": [
    "a = range(1, 101)\n",
    "s = sum(a)\n",
    "print(\"Die Summe der Zahlen von {} bis {} ist {}\".format(a[0], a[-1], s))"
   ]
  },
  {
   "cell_type": "markdown",
   "metadata": {},
   "source": [
    "## abs()\n",
    "Berechnet den Absolutwert"
   ]
  },
  {
   "cell_type": "code",
   "execution_count": 23,
   "metadata": {},
   "outputs": [
    {
     "name": "stdout",
     "output_type": "stream",
     "text": [
      "4, 3, 2, 1, 0, 1, 2, 3, 4, \n"
     ]
    }
   ],
   "source": [
    "for z in range(-4, 5):\n",
    "    print(\"{}, \".format(abs(z)), end='')\n",
    "print(\"\")"
   ]
  },
  {
   "cell_type": "markdown",
   "metadata": {},
   "source": [
    "## zip()\n",
    "\n",
    "Die Funktion `zip(s1, s2[, ...])` führt zwei oder mehr Listen in einem Reißverschlussverfahren zusammen. Das Ergebnis ist eine Liste, bei der jeder Eintrag eine Liste (genauer ein Tuple) mit den indexgleichen Objekten der Ausgangslisten ist.\n",
    "\n",
    "`zip([1,2], [3,4]) ==> [(1,3), (2,4)]`"
   ]
  },
  {
   "cell_type": "code",
   "execution_count": 7,
   "metadata": {},
   "outputs": [
    {
     "name": "stdout",
     "output_type": "stream",
     "text": [
      "      Hans ist 60 Jahre alt\n",
      "    Monika ist 50 Jahre alt\n",
      "     Silke ist 32 Jahre alt\n",
      "     Peter ist 33 Jahre alt\n"
     ]
    }
   ],
   "source": [
    "namensliste = ['Hans', 'Monika', 'Silke', 'Peter']\n",
    "alterliste = [60, 50, 32, 33]\n",
    "\n",
    "for idx in range(len(namensliste)):\n",
    "    name = namensliste[idx]\n",
    "    alter = alterliste[idx]\n",
    "    print(\"{:>10} ist {} Jahre alt\".format(name, alter))"
   ]
  },
  {
   "cell_type": "code",
   "execution_count": 11,
   "metadata": {},
   "outputs": [
    {
     "name": "stdout",
     "output_type": "stream",
     "text": [
      "      Hans ist 60 Jahre alt\n",
      "    Monika ist 50 Jahre alt\n",
      "     Silke ist 32 Jahre alt\n",
      "     Peter ist 33 Jahre alt\n"
     ]
    }
   ],
   "source": [
    "namensliste = ['Hans', 'Monika', 'Silke', 'Peter']\n",
    "alterliste = [60, 50, 32, 33]\n",
    "\n",
    "for name, alter in zip(namensliste, alterliste):\n",
    "    print(\"{:>10} ist {} Jahre alt\".format(name, alter))"
   ]
  },
  {
   "cell_type": "code",
   "execution_count": 18,
   "metadata": {},
   "outputs": [
    {
     "name": "stdout",
     "output_type": "stream",
     "text": [
      "['Hans', 'Monika', 'Silke', 'Peter']\n",
      "[60, 50, 32, 33]\n",
      "[('Hans', 60), ('Monika', 50), ('Silke', 32), ('Peter', 33)]\n"
     ]
    }
   ],
   "source": [
    "namensliste = ['Hans', 'Monika', 'Silke', 'Peter']\n",
    "alterliste = [60, 50, 32, 33]\n",
    "\n",
    "print(namensliste)\n",
    "print(alterliste)\n",
    "print( list(zip(namensliste, alterliste)) )"
   ]
  },
  {
   "cell_type": "code",
   "execution_count": 21,
   "metadata": {},
   "outputs": [
    {
     "data": {
      "text/plain": [
       "[('h', 'w', 'm'), ('a', 'e', 'o'), ('l', 'l', 'i'), ('l', 't', 'n')]"
      ]
     },
     "execution_count": 21,
     "metadata": {},
     "output_type": "execute_result"
    }
   ],
   "source": []
  },
  {
   "cell_type": "code",
   "execution_count": null,
   "metadata": {},
   "outputs": [],
   "source": []
  }
 ],
 "metadata": {
  "kernelspec": {
   "display_name": "Python 3",
   "language": "python",
   "name": "python3"
  },
  "language_info": {
   "codemirror_mode": {
    "name": "ipython",
    "version": 3
   },
   "file_extension": ".py",
   "mimetype": "text/x-python",
   "name": "python",
   "nbconvert_exporter": "python",
   "pygments_lexer": "ipython3",
   "version": "3.7.4"
  },
  "toc-autonumbering": true,
  "toc-showcode": false,
  "toc-showmarkdowntxt": false,
  "toc-showtags": false
 },
 "nbformat": 4,
 "nbformat_minor": 4
}
